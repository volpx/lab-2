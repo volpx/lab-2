{
 "cells": [
  {
   "cell_type": "code",
   "execution_count": 45,
   "metadata": {},
   "outputs": [],
   "source": [
    "from functions import DataXY\n",
    "import pandas as pd\n",
    "import numpy as np\n",
    "\n",
    "data=[pd.read_csv(\"data/AmpMon10V5mA.csv\"),\n",
    "         pd.read_csv(\"data/AmpMon2V0.5mA.csv\"),\n",
    "         pd.read_csv(\"data/AmpVal10V5mA.csv\"),\n",
    "         pd.read_csv(\"data/AmpVal2V0.5mA.csv\")]\n",
    "\n",
    "for df in data:\n",
    "    df[\"mA\"]*=1e-3\n",
    "    df.columns=[\"V\",\"A\"]\n",
    "data_fs=np.array([[10,5e-3],[2,500e-6],[10,5e-3],[2,500e-6]])\n",
    "data_Delta=np.array([[0.2,100e-6],[0.04,10e-6],[0.2,100e-6],[0.04,10e-6]])\n",
    "data_delta=data_Delta/np.sqrt(12)"
   ]
  },
  {
   "cell_type": "code",
   "execution_count": null,
   "metadata": {},
   "outputs": [],
   "source": []
  }
 ],
 "metadata": {
  "kernelspec": {
   "display_name": "Python 3",
   "language": "python",
   "name": "python3"
  },
  "language_info": {
   "codemirror_mode": {
    "name": "ipython",
    "version": 3
   },
   "file_extension": ".py",
   "mimetype": "text/x-python",
   "name": "python",
   "nbconvert_exporter": "python",
   "pygments_lexer": "ipython3",
   "version": "3.7.0"
  }
 },
 "nbformat": 4,
 "nbformat_minor": 2
}
